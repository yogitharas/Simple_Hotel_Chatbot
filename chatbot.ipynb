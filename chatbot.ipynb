{
 "cells": [
  {
   "cell_type": "code",
   "execution_count": 1,
   "metadata": {},
   "outputs": [],
   "source": [
    "from nltk.chat.util import Chat,reflections"
   ]
  },
  {
   "cell_type": "code",
   "execution_count": 3,
   "metadata": {},
   "outputs": [],
   "source": [
    "from nltk.chat.util import Chat,reflections\n",
    "pairs= [\n",
    "    [\"Hii\",[\"Hello! HoW can i help you ?\"]],\n",
    "    [\"Hlo\",[\"Hello! HoW can i help you ?\"]],\n",
    "    [\"Show me the Menu\",[\"1.Chicken Makhani(Butter Chicken)\\n2.Samosas(Deep-Fried Potato/Veggie Dumpling)\\n3.Aloo Gobi(Potato and Cauliflower)\\n4.Naan (Flatbread)\\n5.Matar Paneer(Peas and Cooked Cottage Cheese)\\n6.Rogan Josh (Curried Meat)\\n7.Masala Chai\\n8.Lassi\"]],\n",
    "    [\"bye\",[\"Have a good day\"]],\n",
    "    [\"What excites you the most\",[\"There is nothing more excites me then Chicken Biriyani\"]],\n",
    "    [\"May I Know what is the price of Chicken Makhani ?\",[\"Rs.200\"]],\n",
    "    [\"May I Know what is the price of Samosa ?\",[\"Rs.25\"]],\n",
    "    [\"May I Know what is the price of Aloo Gobi ?\",[\"Rs.90\"]],\n",
    "    [\"May I Know what is the price of Naan ?\",[\"Rs.25\"]],\n",
    "    [\"May I Know what is the price of Matar Paneer ?\",[\"Rs.175\"]],\n",
    "    [\"May I Know what is the price of Rogan Josh ?\",[\"Rs.285\"]],\n",
    "    [\"May I Know what is the price of Lassi ?\",[\"Rs.60\"]],\n",
    "    [\"May I Know what is the price of Masala Chai ?\",[\"Rs.30\"]]\n",
    "]"
   ]
  },
  {
   "cell_type": "code",
   "execution_count": null,
   "metadata": {},
   "outputs": [
    {
     "name": "stdin",
     "output_type": "stream",
     "text": [
      "> hii\n"
     ]
    },
    {
     "name": "stdout",
     "output_type": "stream",
     "text": [
      "Hello! HoW can i help you ?\n"
     ]
    },
    {
     "name": "stdin",
     "output_type": "stream",
     "text": [
      "> hlo\n"
     ]
    },
    {
     "name": "stdout",
     "output_type": "stream",
     "text": [
      "Hello! HoW can i help you ?\n"
     ]
    },
    {
     "name": "stdin",
     "output_type": "stream",
     "text": [
      "> show me\n"
     ]
    },
    {
     "name": "stdout",
     "output_type": "stream",
     "text": [
      "None\n"
     ]
    },
    {
     "name": "stdin",
     "output_type": "stream",
     "text": [
      "> show me the menu please\n"
     ]
    },
    {
     "name": "stdout",
     "output_type": "stream",
     "text": [
      "1Chicken Makhani(Butter Chicken)\n",
      "2Samosas(Deep-Fried Potato/Veggie Dumpling)\n",
      "3Aloo Gobi(Potato and Cauliflower)\n",
      "4Naan (Flatbread)\n",
      "5Matar Paneer(Peas and Cooked Cottage Cheese)\n",
      "6Rogan Josh (Curried Meat)\n",
      "7Masala Chai\n",
      "8Lassi\n"
     ]
    },
    {
     "name": "stdin",
     "output_type": "stream",
     "text": [
      "> May I Know what is the price of Rogan Josh ?\n"
     ]
    },
    {
     "name": "stdout",
     "output_type": "stream",
     "text": [
      "Rs.285\n"
     ]
    },
    {
     "name": "stdin",
     "output_type": "stream",
     "text": [
      "> May I Know what is the price of Masala Chai\n"
     ]
    },
    {
     "name": "stdout",
     "output_type": "stream",
     "text": [
      "Rs.30\n"
     ]
    },
    {
     "name": "stdin",
     "output_type": "stream",
     "text": [
      "> May I Know what is the price of Rogan\n"
     ]
    },
    {
     "name": "stdout",
     "output_type": "stream",
     "text": [
      "None\n"
     ]
    },
    {
     "name": "stdin",
     "output_type": "stream",
     "text": [
      "> May I Know what is the price of Matar Paneer\n"
     ]
    },
    {
     "name": "stdout",
     "output_type": "stream",
     "text": [
      "Rs.175\n"
     ]
    }
   ],
   "source": [
    "chat=Chat(pairs,reflections)\n",
    "chat.converse()"
   ]
  },
  {
   "cell_type": "code",
   "execution_count": null,
   "metadata": {},
   "outputs": [],
   "source": []
  }
 ],
 "metadata": {
  "kernelspec": {
   "display_name": "Python 3",
   "language": "python",
   "name": "python3"
  },
  "language_info": {
   "codemirror_mode": {
    "name": "ipython",
    "version": 3
   },
   "file_extension": ".py",
   "mimetype": "text/x-python",
   "name": "python",
   "nbconvert_exporter": "python",
   "pygments_lexer": "ipython3",
   "version": "3.7.6"
  }
 },
 "nbformat": 4,
 "nbformat_minor": 4
}
